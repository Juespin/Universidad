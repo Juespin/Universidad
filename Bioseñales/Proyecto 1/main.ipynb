{
  "cells": [
    {
      "cell_type": "code",
      "execution_count": null,
      "metadata": {
        "id": "1oRelmqk9zoe"
      },
      "outputs": [],
      "source": [
        "\n",
        "import pandas as pd\n",
        "import numpy as np\n",
        "import matplotlib.pyplot as plt\n",
        "import seaborn as sns"
      ]
    },
    {
      "cell_type": "code",
      "source": [
        "file_id2 = '1IhCUZRzL8RkBqlRPpY5boBzukPkjOIqM'\n",
        "destination2 = 'Diagnostics.xlsx'\n",
        "\n",
        "!gdown --id {file_id2} --output {destination2}"
      ],
      "metadata": {
        "id": "416Jc58exeHD"
      },
      "execution_count": null,
      "outputs": []
    },
    {
      "cell_type": "code",
      "source": [
        "# Se realiza la carga de archivos al entorno\n",
        "file_id = '1tGXh5G3DEOshn6DA28nioFCQv7ZX0e0l'\n",
        "destination = 'ECGDataDenoised.zip'\n",
        "\n",
        "!gdown --id {file_id} --output {destination}"
      ],
      "metadata": {
        "id": "UHwC7DpaxlzI"
      },
      "execution_count": null,
      "outputs": []
    },
    {
      "cell_type": "code",
      "source": [
        "datos = pd.read_excel('Diagnostics.xlsx')\n",
        "# Observación preliminar de las variables y estructura del dataset\n",
        "datos.describe()"
      ],
      "metadata": {
        "id": "i3iv-vO-x1ng"
      },
      "execution_count": null,
      "outputs": []
    },
    {
      "cell_type": "code",
      "source": [
        "# Se estraen los archivos en una carpeta dentro del entorno\n",
        "import zipfile\n",
        "zip_path = \"ECGDataDenoised.zip\"\n",
        "extract_to = \"ecg_data\"\n",
        "\n",
        "with zipfile.ZipFile(zip_path, 'r') as zip_ref:\n",
        "    zip_ref.extractall(extract_to)"
      ],
      "metadata": {
        "id": "74MpEMyHyB0f"
      },
      "execution_count": null,
      "outputs": []
    },
    {
      "source": [
        "# Check current working directory and file listing\n",
        "!pwd\n",
        "!ls -l"
      ],
      "cell_type": "code",
      "metadata": {
        "id": "-Z9h7hdCy1ip"
      },
      "execution_count": null,
      "outputs": []
    },
    {
      "source": [
        "# Re-descargar el archivo\n",
        "file_id = '1tGXh5G3DEOshn6DA28nioFCQv7ZX0e0l'\n",
        "destination = 'ECGDataDenoised.zip'\n",
        "!gdown --id {file_id} --output {destination}"
      ],
      "cell_type": "code",
      "metadata": {
        "id": "tWtwzl6t1nTj"
      },
      "execution_count": null,
      "outputs": []
    },
    {
      "cell_type": "code",
      "execution_count": null,
      "metadata": {
        "id": "qcj9bDXF9_hJ"
      },
      "outputs": [],
      "source": [
        "df = pd.read_excel('Diagnostics.xlsx')\n",
        "\n",
        "df"
      ]
    },
    {
      "cell_type": "code",
      "execution_count": null,
      "metadata": {
        "id": "tRyDm0meLZeZ"
      },
      "outputs": [],
      "source": [
        "df.describe()"
      ]
    },
    {
      "cell_type": "code",
      "execution_count": null,
      "metadata": {
        "id": "llCOs08KFBMg"
      },
      "outputs": [],
      "source": [
        "df.groupby(by=[\"Rhythm\"]).describe()"
      ]
    },
    {
      "cell_type": "code",
      "execution_count": null,
      "metadata": {
        "id": "be7tyUo1-dLa"
      },
      "outputs": [],
      "source": [
        "plt.figure(figsize=(10, 10))\n",
        "sns.histplot(df['Rhythm'], bins=10, kde=False, color='black')\n",
        "\n",
        "plt.ylabel('Cantidad de casos')\n",
        "plt.xlabel('Arritmia')\n",
        "plt.xticks(rotation=45)\n",
        "plt.grid(axis='y')\n",
        "plt.show()"
      ]
    },
    {
      "cell_type": "markdown",
      "metadata": {
        "id": "iK72kIpbB7xV"
      },
      "source": [
        "La arritmia más prevelante es SB"
      ]
    },
    {
      "cell_type": "code",
      "execution_count": null,
      "metadata": {
        "id": "dq7yBHykInKX"
      },
      "outputs": [],
      "source": [
        "df['Gender'].value_counts()"
      ]
    },
    {
      "cell_type": "code",
      "execution_count": null,
      "metadata": {
        "id": "ldkwNqUhGfiu"
      },
      "outputs": [],
      "source": [
        "plt.figure(figsize=(10, 10))\n",
        "sns.countplot(data=df, x='Rhythm', hue='Gender', palette='rocket')\n",
        "plt.ylabel('Cantidad de casos')\n",
        "plt.xlabel('Arritmia')\n",
        "plt.xticks(rotation=45)\n",
        "plt.grid(axis='y')\n",
        "plt.show()"
      ]
    },
    {
      "cell_type": "code",
      "execution_count": null,
      "metadata": {
        "id": "SnLwv5M-JoRt"
      },
      "outputs": [],
      "source": [
        "plt.figure(figsize=(16, 10))\n",
        "sns.boxplot(data=df, x='Rhythm', y='PatientAge', palette='rocket')\n",
        "plt.ylabel('Rango de edad')\n",
        "plt.xlabel('Arritmia')\n",
        "plt.xticks(rotation=45)\n",
        "plt.grid(axis='y')\n",
        "plt.show()"
      ]
    },
    {
      "cell_type": "code",
      "execution_count": null,
      "metadata": {
        "id": "uTjXfNNjK49K"
      },
      "outputs": [],
      "source": [
        "plt.figure(figsize=(16, 10))\n",
        "sns.boxplot(data=df, x='Rhythm', y='PatientAge', palette='rocket', showfliers=False)\n",
        "plt.ylabel('Rango de edad')\n",
        "plt.xlabel('Arritmia')\n",
        "plt.xticks(rotation=45)\n",
        "plt.grid(axis='y')\n",
        "plt.show()"
      ]
    },
    {
      "cell_type": "markdown",
      "metadata": {
        "id": "UnA2S_rAPJ4z"
      },
      "source": [
        "Se descartan las edades atípicas: Las que se alejan de la media mas que la desviación estandar"
      ]
    },
    {
      "cell_type": "code",
      "execution_count": null,
      "metadata": {
        "id": "aC0_E063PUmv"
      },
      "outputs": [],
      "source": [
        "df['PatientAge'].describe()\n",
        "sns.histplot(df['PatientAge'], bins=20, kde=True)"
      ]
    },
    {
      "cell_type": "code",
      "execution_count": null,
      "metadata": {
        "id": "HFOtKhL-P5L7"
      },
      "outputs": [],
      "source": [
        "df_filtrado = df[(df['PatientAge'] >= 41) & (df['PatientAge'] <= 87)]\n",
        "df_filtrado.describe()\n",
        "sns.histplot(df_filtrado['PatientAge'], bins=20, kde=True)"
      ]
    },
    {
      "cell_type": "code",
      "execution_count": null,
      "metadata": {
        "id": "Dn1tbR6WQ8AA"
      },
      "outputs": [],
      "source": [
        "plt.figure(figsize=(10, 10))\n",
        "sns.histplot(df_filtrado['Rhythm'], bins=10, kde=False, color='black')\n",
        "plt.ylabel('Cantidad de casos')\n",
        "plt.xlabel('Arritmia')\n",
        "plt.xticks(rotation=45)\n",
        "plt.grid(axis='y')\n",
        "plt.show()"
      ]
    },
    {
      "cell_type": "markdown",
      "metadata": {
        "id": "HMoJ_o7NR9EQ"
      },
      "source": [
        "Se descartaría SA, AT, AVNRT, SAAWR, AVRT"
      ]
    },
    {
      "cell_type": "code",
      "execution_count": null,
      "metadata": {
        "id": "aFfmM9bRSH-O"
      },
      "outputs": [],
      "source": [
        "###discard = ['SA', 'AT', 'AVNRT', 'SAAWR', 'AVRT']\n",
        " #for rhythm in discard:\n",
        "  #df_filtrado.drop(df_filtrado[df_filtrado['Rhythm']].index)\n"
      ]
    },
    {
      "cell_type": "code",
      "execution_count": null,
      "metadata": {
        "id": "GY1Bzgd4QslY"
      },
      "outputs": [],
      "source": [
        "plt.figure(figsize=(16, 10))\n",
        "sns.boxplot(data=df_filtrado, x='Rhythm', y='PatientAge', palette='rocket')\n",
        "plt.ylabel('Rango de edad')\n",
        "plt.xlabel('Arritmia')\n",
        "plt.xticks(rotation=45)\n",
        "plt.grid(axis='y')\n",
        "plt.show()"
      ]
    },
    {
      "cell_type": "markdown",
      "metadata": {
        "id": "g_YqjHD3NUMh"
      },
      "source": [
        "Coger las arritmias que tengan más de 400 casos."
      ]
    },
    {
      "cell_type": "markdown",
      "metadata": {
        "id": "pAskSWb8Sk08"
      },
      "source": [
        " # Análisis 2: Selección herramienta de análisis\n",
        " Escogemos 'AFIB' (Fibrilación ) y 'ST' (Taquicardia sinusal)"
      ]
    },
    {
      "cell_type": "code",
      "execution_count": null,
      "metadata": {
        "id": "wByu4r2rU518"
      },
      "outputs": [],
      "source": [
        "!pip install neurokit2\n",
        "!pip install py-ecg-detectors"
      ]
    },
    {
      "cell_type": "code",
      "execution_count": null,
      "metadata": {
        "id": "FEo0KiIFSqCA"
      },
      "outputs": [],
      "source": [
        "import neurokit2 as nk\n",
        "from ecgdetectors import Detectors"
      ]
    },
    {
      "cell_type": "code",
      "execution_count": null,
      "metadata": {
        "id": "syQCL6UJvyLW"
      },
      "outputs": [],
      "source": [
        "AFIB_urls = df[(df[\"Rhythm\"] == 'AFIB')]['FileName']\n",
        "ST_urls = df[(df[\"Rhythm\"] == 'ST')]['FileName']\n",
        "\n",
        "print(AFIB_urls)\n",
        "print(ST_urls)"
      ]
    },
    {
      "cell_type": "code",
      "execution_count": null,
      "metadata": {
        "id": "PLxZ80BFvyLW"
      },
      "outputs": [],
      "source": [
        "signal = pd.read_csv(f'ecg_data/ECGDataDenoised/{AFIB_urls[0]}.csv', names=['I', 'II', 'III', 'aVR', 'aVL', 'aVF', 'V1', 'V2', 'V3', 'V4', 'V5', 'V6'])\n",
        "signal"
      ]
    },
    {
      "source": [
        "import os\n",
        "\n",
        "\n",
        "\n",
        "AFIB_urls = df[(df[\"Rhythm\"] == 'AFIB')]['FileName']\n",
        "ST_urls = df[(df[\"Rhythm\"] == 'ST')]['FileName']\n",
        "\n",
        "# Check if the file exists before trying to read it\n",
        "file_path = f'ECGDataDenoised/{AFIB_urls.iloc[0]}.csv'  # Use iloc to access the first element\n",
        "if os.path.exists(file_path):\n",
        "    signal = pd.read_csv(file_path, names=['I', 'II', 'III', 'aVR', 'aVL', 'aVF', 'V1', 'V2', 'V3', 'V4', 'V5', 'V6'])\n",
        "    print(signal)\n",
        "else:\n",
        "    print(f\"File not found: {file_path}\")\n",
        "    # Check if the file exists in the 'ecg_data' directory instead\n",
        "    file_path = f'ecg_data/{AFIB_urls.iloc[0]}.csv'\n",
        "    if os.path.exists(file_path):\n",
        "        signal = pd.read_csv(file_path, names=['I', 'II', 'III', 'aVR', 'aVL', 'aVF', 'V1', 'V2', 'V3', 'V4', 'V5', 'V6'])\n",
        "        print(signal)\n",
        "    else:\n",
        "        print(f\"File not found in either directory: {AFIB_urls.iloc[0]}.csv\")\n",
        "\n",
        "# ... (rest of the code) ..."
      ],
      "cell_type": "code",
      "metadata": {
        "id": "2Srdng-B3IL9"
      },
      "execution_count": null,
      "outputs": []
    },
    {
      "cell_type": "code",
      "execution_count": null,
      "metadata": {
        "id": "wBjryrOqvyLX"
      },
      "outputs": [],
      "source": [
        "fig, axes = plt.subplots(nrows=20, ncols=1, figsize=(10, 100))  # Create a grid of subplots\n",
        "i = 0\n",
        "fs = 500\n",
        "for url in AFIB_urls[:20]:\n",
        "    signal = pd.read_csv(f'ecg_data/ECGDataDenoised/{url}.csv', names=['I', 'II', 'III', 'aVR', 'aVL', 'aVF', 'V1', 'V2', 'V3', 'V4', 'V5', 'V6'])\n",
        "    axes[i].plot(signal['I'].values)\n",
        "    axes[i].set_title(f\"Señal {i+1}\")\n",
        "    i += 1\n",
        "\n",
        "plt.tight_layout()\n",
        "plt.show()"
      ]
    },
    {
      "cell_type": "markdown",
      "metadata": {
        "id": "kkVgLs1ivyLX"
      },
      "source": [
        "1. Detectar los picos R utilizando la función de la librería NeuroKit."
      ]
    },
    {
      "cell_type": "code",
      "execution_count": null,
      "metadata": {
        "id": "9p6BNHGSvyLX"
      },
      "outputs": [],
      "source": [
        "random_urls = np.random.choice(ST_urls, size=20, replace=False)\n",
        "for url in random_urls:\n",
        "    signal_ekg = pd.read_csv(f'ecg_data/ECGDataDenoised/{url}.csv', names=['I', 'II', 'III', 'aVR', 'aVL', 'aVF', 'V1', 'V2', 'V3', 'V4', 'V5', 'V6'])\n",
        "    signals, rpeaks = nk.ecg_peaks(signal_ekg['II'], sampling_rate=fs, correct_artifacts=False, show=True)"
      ]
    },
    {
      "cell_type": "code",
      "source": [
        "\n",
        "\n",
        "\n",
        "def detect_rpeaks(signal, fs):\n",
        "    detectors = Detectors(fs)\n",
        "    rpeaks_detector = detectors.pan_tompkins_detector(signal)\n",
        "    signals_nk, rpeaks_nk = nk.ecg_peaks(signal, sampling_rate=fs, correct_artifacts=False)\n",
        "    return rpeaks_detector, rpeaks_nk\n",
        "\n",
        "\n",
        "peak_counts_detector = []\n",
        "peak_counts_nk = []\n",
        "file_names = []\n",
        "\n",
        "\n",
        "\n",
        "random_urls = np.random.choice(ST_urls, size=10, replace=False) # Reduced the number for faster execution\n",
        "\n",
        "for url in random_urls:\n",
        "    file_path = f'ecg_data/ECGDataDenoised/{url}.csv'\n",
        "    if os.path.exists(file_path):\n",
        "        signal_ekg = pd.read_csv(file_path, names=['I', 'II', 'III', 'aVR', 'aVL', 'aVF', 'V1', 'V2', 'V3', 'V4', 'V5', 'V6'])\n",
        "\n",
        "        rpeaks_detector, rpeaks_nk = detect_rpeaks(signal_ekg['II'], fs=500)\n",
        "\n",
        "        peak_counts_detector.append(len(rpeaks_detector))\n",
        "        peak_counts_nk.append(len(rpeaks_nk['ECG_R_Peaks']))\n",
        "        file_names.append(url)\n",
        "    else:\n",
        "        print(f\"File not found: {file_path}\")\n",
        "\n",
        "\n",
        "plt.figure(figsize=(12, 6))\n",
        "x_test = np.arange(1, len(file_names) +1)\n",
        "plt.plot(x_test, peak_counts_detector, label='ECG Detectors', marker='o')\n",
        "plt.plot(x_test, peak_counts_nk, label='NeuroKit2', marker='x')\n",
        "plt.xlabel('Señales')\n",
        "plt.ylabel('Numero de picos detectados')\n",
        "plt.title('Comparacion de los metodos')\n",
        "plt.xticks(rotation=45, ha='right')\n",
        "plt.legend()\n",
        "plt.tight_layout()\n",
        "plt.show()\n"
      ],
      "metadata": {
        "id": "pXgS2VFV8f99"
      },
      "execution_count": null,
      "outputs": []
    },
    {
      "cell_type": "markdown",
      "source": [
        "# Análisis 3. : Variabilidad de la frecuencia cardíaca (HRV) y otros índices ECG"
      ],
      "metadata": {
        "id": "HYE2CMnO95If"
      }
    },
    {
      "cell_type": "code",
      "source": [
        "!pip install hrv-analysis"
      ],
      "metadata": {
        "id": "shOdwy9oBfKu"
      },
      "execution_count": null,
      "outputs": []
    },
    {
      "cell_type": "code",
      "source": [
        "\n",
        "discard_rhythms = ['SA', 'AT', 'AVNRT', 'SAAWR', 'AVRT']\n",
        "min_cases = 400\n",
        "\n",
        "rhythm_counts = df_filtrado['Rhythm'].value_counts()\n",
        "\n",
        "\n",
        "filtered_rhythms = [rhythm for rhythm, count in rhythm_counts.items() if rhythm not in discard_rhythms and count >= min_cases]\n",
        "\n",
        "\n",
        "df_final = df_filtrado[df_filtrado['Rhythm'].isin(filtered_rhythms)]\n",
        "\n",
        "\n",
        "df_final\n"
      ],
      "metadata": {
        "id": "DWd_F5f1ExCx"
      },
      "execution_count": null,
      "outputs": []
    },
    {
      "cell_type": "code",
      "source": [
        "df_final.groupby(\"Rhythm\")[\"FileName\"].count()"
      ],
      "metadata": {
        "id": "OrTPYhNSGBoe"
      },
      "execution_count": null,
      "outputs": []
    },
    {
      "cell_type": "code",
      "source": [
        "from hrvanalysis import get_time_domain_features, remove_outliers\n",
        "from tqdm import tqdm"
      ],
      "metadata": {
        "id": "tnxZmUMuIAG6"
      },
      "execution_count": null,
      "outputs": []
    },
    {
      "cell_type": "code",
      "source": [
        "\n",
        "ruta_ecg = \"ecg_data/ECGDataDenoised\"\n",
        "detector_ecg = Detectors(sampling_frequency=500)\n",
        "\n",
        "def encontrar_r_peaks(ecg_signal):\n",
        "    return detector_ecg.hamilton_detector(ecg_signal.to_numpy())\n",
        "\n",
        "def obtener_nn_intervals(r_locs, fs=500):\n",
        "    return np.diff(r_locs) * (1000 / fs)\n",
        "\n",
        "# Listas para guardar resultados y señales descartadas\n",
        "resultados_hrv = []\n",
        "ecg_no_validos = []\n",
        "\n",
        "# Procesamiento de los archivos\n",
        "for idx, registro in tqdm(df_final.iterrows(), total=len(df_final), desc=\"Analizando registros ECG\"):\n",
        "    nombre_archivo = f\"{registro['FileName']}.csv\"\n",
        "    ruta_archivo = os.path.join(ruta_ecg, nombre_archivo)\n",
        "\n",
        "    if not os.path.isfile(ruta_archivo):\n",
        "        print(f\"No se encontró el archivo: {nombre_archivo}\")\n",
        "        continue\n",
        "\n",
        "    try:\n",
        "        datos_ecg = pd.read_csv(ruta_archivo, header=None)\n",
        "        ecg_signal = datos_ecg.iloc[:, 1]\n",
        "        r_peaks = encontrar_r_peaks(ecg_signal)\n",
        "        intervalos_nn = obtener_nn_intervals(r_peaks)\n",
        "\n",
        "        if len(intervalos_nn) > 2:\n",
        "            caracteristicas = get_time_domain_features(intervalos_nn.tolist())\n",
        "            caracteristicas[\"Cantidad_R_Peaks\"] = len(r_peaks)\n",
        "            caracteristicas[\"Archivo\"] = registro[\"FileName\"]\n",
        "            caracteristicas[\"Ritmo\"] = registro[\"Rhythm\"]\n",
        "            resultados_hrv.append(caracteristicas)\n",
        "        else:\n",
        "            ecg_no_validos.append((ecg_signal, registro[\"FileName\"]))\n",
        "    except Exception as error:\n",
        "        print(f\"Fallo al procesar {nombre_archivo}: {error}\")\n",
        "\n",
        "# Guardar resultados en un CSV\n",
        "df_resultados_hrv = pd.DataFrame(resultados_hrv)\n",
        "df_resultados_hrv.to_csv(\"Resultados_hrv.csv\", index=False)\n"
      ],
      "metadata": {
        "id": "HFcPWk1sHcvD"
      },
      "execution_count": null,
      "outputs": []
    },
    {
      "cell_type": "code",
      "source": [
        "df_resultados_hrv.head(10)"
      ],
      "metadata": {
        "id": "chy9iAkfJanA"
      },
      "execution_count": null,
      "outputs": []
    },
    {
      "cell_type": "code",
      "source": [
        "\n",
        "from hrvanalysis import get_frequency_domain_features\n",
        "\n",
        "# Assuming df_resultados_hrv is already created from the previous code\n",
        "\n",
        "# Function to get frequency domain features, handling potential errors\n",
        "def get_frequency_features(nn_intervals):\n",
        "    try:\n",
        "        return get_frequency_domain_features(nn_intervals)\n",
        "    except Exception as e:\n",
        "        print(f\"Error calculating frequency domain features: {e}\")\n",
        "        return None\n",
        "\n",
        "# Add frequency domain features to the DataFrame\n",
        "frequency_features_list = []\n",
        "for index, row in df_resultados_hrv.iterrows():\n",
        "    nn_intervals = intervalos_nn\n",
        "    if isinstance(nn_intervals, list):\n",
        "      frequency_features = get_frequency_features(nn_intervals)\n",
        "      if frequency_features:\n",
        "        frequency_features_list.append(frequency_features)\n",
        "      else:\n",
        "        frequency_features_list.append({}) #Append an empty dictionary if there's an error.\n",
        "    else:\n",
        "      frequency_features_list.append({}) #Append empty dict if nn50 isn't a list.\n",
        "\n",
        "# Create DataFrame from the list\n",
        "df_frequency_features = pd.DataFrame(frequency_features_list)\n",
        "\n",
        "# Concatenate the two DataFrames\n",
        "df_combined = pd.concat([df_resultados_hrv, df_frequency_features], axis=1)\n",
        "\n",
        "# Display the combined DataFrame\n",
        "df_frequency_features = df_combined.drop(columns=[\n",
        "'mean_nni', 'sdnn', 'sdsd', 'nni_50', 'pnni_50', 'nni_20', 'pnni_20',\n",
        "       'rmssd', 'median_nni', 'range_nni', 'cvsd', 'cvnni', 'mean_hr',\n",
        "       'max_hr', 'min_hr', 'std_hr', 'Cantidad_R_Peaks', 'Archivo', 'Ritmo',\n",
        "       'Mean_RR', 'HR'\n",
        "])\n",
        "\n",
        "df_frequency_features = df_frequency_features.dropna()\n",
        "df_frequency_features.head(10)\n"
      ],
      "metadata": {
        "id": "he1zgLdRK52O"
      },
      "execution_count": null,
      "outputs": []
    },
    {
      "cell_type": "markdown",
      "source": [
        "# Análisis 4: Comparación de características entre grupos"
      ],
      "metadata": {
        "id": "yRvISBITMw-z"
      }
    },
    {
      "cell_type": "code",
      "source": [
        "def graficar_boxplots(df, columnas_hrv):\n",
        "    \"\"\"\n",
        "    Visualiza boxplots de varias métricas HRV agrupadas por tipo de ritmo.\n",
        "\n",
        "    Parámetros:\n",
        "    - df: DataFrame que contiene los datos HRV y la columna 'Ritmo'.\n",
        "    - columnas_hrv: Lista con los nombres de las métricas a graficar.\n",
        "    \"\"\"\n",
        "    total_graficas = len(columnas_hrv)\n",
        "    columnas = 3\n",
        "    filas = -(-total_graficas // columnas)  # Redondeo hacia arriba\n",
        "\n",
        "    fig, ejes = plt.subplots(filas, columnas, figsize=(18, 5 * filas))\n",
        "    ejes = ejes.flatten()\n",
        "\n",
        "    for i, columna in enumerate(columnas_hrv):\n",
        "        sns.boxplot(\n",
        "            data=df,\n",
        "            x=\"Ritmo\",    # <-- aquí corregido\n",
        "            y=columna,\n",
        "            palette=\"pastel\",\n",
        "            ax=ejes[i]\n",
        "        )\n",
        "        ejes[i].set_title(f\"Boxplot de {columna}\", fontsize=13)\n",
        "        ejes[i].set_xlabel(\"\")\n",
        "        ejes[i].set_ylabel(columna, fontsize=11)\n",
        "        ejes[i].tick_params(axis='x', rotation=30)\n",
        "\n",
        "    # Ocultar ejes vacíos\n",
        "    for k in range(i + 1, len(ejes)):\n",
        "        fig.delaxes(ejes[k])\n",
        "\n",
        "    plt.tight_layout()\n",
        "    plt.show()\n",
        "\n",
        "variables_hrv = [\n",
        "    \"mean_nni\", \"sdnn\", \"sdsd\", \"nni_50\", \"pnni_50\",\n",
        "    \"nni_20\", \"pnni_20\", \"rmssd\", \"median_nni\",\n",
        "    \"range_nni\", \"cvsd\", \"cvnni\", \"mean_hr\", \"max_hr\", \"std_hr\"\n",
        "]\n",
        "\n",
        "graficar_boxplots(df_resultados_hrv, variables_hrv)\n"
      ],
      "metadata": {
        "id": "0pU1cOcASR76"
      },
      "execution_count": null,
      "outputs": []
    },
    {
      "cell_type": "code",
      "source": [
        "def filtrar_valores_extremos(df_analisis, columnas_metricas, grupo_columna='Ritmo', umbral_retenido=0.95):\n",
        "    \"\"\"\n",
        "    Filtra outliers por grupo utilizando el método del IQR, asegurando mantener un porcentaje mínimo de datos.\n",
        "\n",
        "    Args:\n",
        "    - df_analisis: DataFrame que contiene los datos a procesar.\n",
        "    - columnas_metricas: Lista de nombres de columnas numéricas a evaluar.\n",
        "    - grupo_columna: Columna utilizada para agrupar los datos (por defecto: 'Ritmo').\n",
        "    - umbral_retenido: Proporción mínima de datos que deben permanecer tras eliminar outliers (por defecto: 0.95).\n",
        "\n",
        "    Returns:\n",
        "    - DataFrame sin outliers, respetando el umbral de datos retenidos.\n",
        "    \"\"\"\n",
        "    df_limpio = df_analisis.copy()\n",
        "\n",
        "    for columna in columnas_metricas:\n",
        "        total_datos = len(df_limpio)\n",
        "        outliers_indices = []\n",
        "\n",
        "        for valor_grupo in df_limpio[grupo_columna].unique():\n",
        "            subset = df_limpio[df_limpio[grupo_columna] == valor_grupo][columna]\n",
        "\n",
        "            # Cálculo de los cuartiles y rango intercuartílico\n",
        "            q1 = subset.quantile(0.25)\n",
        "            q3 = subset.quantile(0.75)\n",
        "            rango_iqr = q3 - q1\n",
        "\n",
        "            # Definición de límites de valores aceptables, buscando conservar\n",
        "            # al menos 2,7 desviaciones estandar\n",
        "            limite_inferior = q1 - (1.5 * rango_iqr)\n",
        "            limite_superior = q3 + (1.5 * rango_iqr)\n",
        "\n",
        "            # Identificación de índices considerados outliers\n",
        "            indices_detectados = subset[(subset < limite_inferior) | (subset > limite_superior)].index.tolist()\n",
        "            outliers_indices.extend(indices_detectados)\n",
        "\n",
        "        # Eliminación de duplicados de índices\n",
        "        outliers_indices = list(set(outliers_indices))\n",
        "\n",
        "        # Verificación del umbral antes de eliminar\n",
        "        datos_finales = total_datos - len(outliers_indices)\n",
        "        if datos_finales / total_datos >= umbral_retenido:\n",
        "            df_limpio = df_limpio.drop(index=outliers_indices)\n",
        "        else:\n",
        "            print(f\"Advertencia: No se eliminaron outliers en '{columna}' para conservar al menos el {int(umbral_retenido * 100)}% de los datos.\")\n",
        "\n",
        "    return df_limpio"
      ],
      "metadata": {
        "id": "yvh_dPdi50Aq"
      },
      "execution_count": null,
      "outputs": []
    },
    {
      "cell_type": "code",
      "source": [
        "df_hrv_filtrado = filtrar_valores_extremos(df_resultados_hrv, variables_hrv)"
      ],
      "metadata": {
        "id": "IOoDOuCxBFWW"
      },
      "execution_count": null,
      "outputs": []
    },
    {
      "cell_type": "code",
      "source": [
        "graficar_boxplots(df_hrv_filtrado, variables_hrv)"
      ],
      "metadata": {
        "id": "ZGXVEql3BB_0"
      },
      "execution_count": null,
      "outputs": []
    },
    {
      "cell_type": "code",
      "source": [
        "from scipy.stats import shapiro, levene, ttest_ind, mannwhitneyu\n",
        "\n",
        "alpha = 0.05"
      ],
      "metadata": {
        "id": "284WHYt6WKJp"
      },
      "execution_count": null,
      "outputs": []
    },
    {
      "cell_type": "code",
      "source": [
        "# Prueba de normalidad\n",
        "for metrica in variables_hrv:\n",
        "  print('\\n')\n",
        "  print(f'{metrica}'.center(60, '-'))\n",
        "  for arritmia in df_hrv_filtrado['Ritmo'].unique():\n",
        "    stat, p = shapiro(df_hrv_filtrado[df_hrv_filtrado['Ritmo'] == arritmia][metrica])\n",
        "    if p < alpha:\n",
        "      normalidad = 'no normal'\n",
        "    else:\n",
        "      normalidad = 'normal'\n",
        "\n",
        "    print(f'\\n{arritmia}: {p} -> {normalidad}')\n"
      ],
      "metadata": {
        "id": "DlUtG_wmWkED"
      },
      "execution_count": null,
      "outputs": []
    },
    {
      "cell_type": "code",
      "source": [
        "# Prueba de homocedasticidad\n",
        "print('HOMECEDASTICIDAD AFIB VS ST')\n",
        "for metrica in variables_hrv:\n",
        "  print('\\n')\n",
        "  print(f'{metrica}'.center(60, '-'))\n",
        "  stat, p = levene(df_hrv_filtrado[df_hrv_filtrado['Ritmo'] == 'AFIB'][metrica], df_hrv_filtrado[df_hrv_filtrado['Ritmo'] == 'ST'][metrica])\n",
        "  if p < alpha:\n",
        "    homocedasticidad = 'no homocedastico'\n",
        "  else:\n",
        "    homocedasticidad = 'homocedastico'\n",
        "\n",
        "  print(f'\\n{p} -> {homocedasticidad}')\n",
        "\n"
      ],
      "metadata": {
        "id": "YuRe-DMybofI"
      },
      "execution_count": null,
      "outputs": []
    },
    {
      "cell_type": "code",
      "source": [
        "print('PRUEBA U DE MANN-WHITNEY (AFIB VS ST)')\n",
        "u_mann_whitney_values = {}\n",
        "for metrica in variables_hrv:\n",
        "  u_stat, p_value = mannwhitneyu(df_hrv_filtrado[df_hrv_filtrado[\"Ritmo\"] == \"AFIB\"][metrica], df_hrv_filtrado[df_hrv_filtrado[\"Ritmo\"] == \"ST\"][metrica])\n",
        "  if p_value < alpha:\n",
        "    conclusion = \"Rechazar H0, Hay diferencia estadística entre las medianas\"\n",
        "  else:\n",
        "    conclusion = \"No rechazar H0, No hay diferencia estadística entre las medianas\"\n",
        "  print(f\"\\nPrueba U de Mann-Whitney de {metrica}: U = {u_stat}, p-value = {p_value}\")\n",
        "  u_mann_whitney_values[metrica] = u_stat\n",
        "  print(conclusion)\n",
        "\n",
        "df_u = pd.DataFrame.from_dict(u_mann_whitney_values, orient='index', columns=['U_value'])\n"
      ],
      "metadata": {
        "id": "HAHThZcwdwG0"
      },
      "execution_count": null,
      "outputs": []
    },
    {
      "cell_type": "code",
      "source": [
        "df_u['U_normalized'] = (df_u['U_value'] - df_u['U_value'].min()) / (df_u['U_value'].max() - df_u['U_value'].min())\n",
        "plt.figure(figsize=(10, 8))\n",
        "heatmap = sns.heatmap(\n",
        "    df_u[['U_normalized']],\n",
        "    annot=True,\n",
        "    fmt=\".1f\",\n",
        "    cmap=\"coolwarm\",\n",
        "    cbar_kws={'label': 'Valor U de Mann-Whitney'}\n",
        ")\n",
        "plt.title(\"Valor del estadístico U de Mann-Whitney por métrica (AFib vs. ST)\", pad=20)\n",
        "plt.xlabel(\"Estadístico U\")\n",
        "plt.ylabel(\"Métricas de ritmo cardíaco\")\n",
        "plt.xticks(rotation=45)\n",
        "plt.tight_layout()\n",
        "plt.show()"
      ],
      "metadata": {
        "id": "tq7SwxUryXbz"
      },
      "execution_count": null,
      "outputs": []
    },
    {
      "cell_type": "code",
      "source": [
        "# Calcular r = Z / sqrt(N) (aproximación para tamaño del efecto) r de Wilcoxon (tamaño del efecto para pruebas no paramétricas basado en U)\n",
        "total_samples = len(df_hrv_filtrado[df_hrv_filtrado[\"Ritmo\"] == \"AFIB\"][metrica]) + len(df_hrv_filtrado[df_hrv_filtrado[\"Ritmo\"] == \"ST\"][metrica])  # Reemplaza con tus tamaños reales\n",
        "df_u['r_effect'] = (df_u['U_value'] / (len(df_hrv_filtrado[df_hrv_filtrado[\"Ritmo\"] == \"AFIB\"][metrica]) * len(df_hrv_filtrado[df_hrv_filtrado[\"Ritmo\"] == \"ST\"][metrica]))) - 0.5  # Ajuste para r\n",
        "\n",
        "plt.figure(figsize=(10, 6))\n",
        "ax = sns.heatmap(df_u[['r_effect']], annot=True, cmap=\"coolwarm\", center=0)\n",
        "ax.set_title('Tamaño del efecto (r) para cada métrica de ritmo cardíaco')\n",
        "ax.set_xlabel('Tamaño del efecto (r)')\n",
        "ax.set_ylabel('Métricas de HRV')"
      ],
      "metadata": {
        "id": "CY4hbVxEpF6S"
      },
      "execution_count": null,
      "outputs": []
    },
    {
      "cell_type": "markdown",
      "source": [
        "![image.png](data:image/png;base64,iVBORw0KGgoAAAANSUhEUgAAAXoAAACQCAYAAAAGCKDAAAAAAXNSR0IArs4c6QAAAARnQU1BAACxjwv8YQUAAAAJcEhZcwAADsMAAA7DAcdvqGQAAClFSURBVHhe7d15VBRX2j/wb8e8Q0YDJkYm+qpjAx27BRVwQVsJuEEMggrEJWrikhgFo8FIR09QUYwrMsHJZn7NL6gRIw4mcQ1ClGUcGpfQGkdwg0GanDjdmAz404H3hXl+f3Q3VFezKy12ns85fU763qeqbt269XTVrSJKiIjAGGPMbj0hLmCMMWZfONEzxpid40TPGGN2jhM9Y4zZOU70jDFm5zjRM8aYneNEzxhjdo4TPWOM2TlO9IwxZuc40TPGmJ3jRM8YY3aOEz3rWFVnsTnUBy4yBULU5eLax19dCQ5GBkAhU0CqyhXXssdQTVWNuOix1+GJPlslR9Rpcaml1sS0WtVFJEVOhpdcAReZF/zn74SmShxkqeZ2EbL378SK+ZPhFbobOnGAzd2FNiURqX/voAFXshshck+Eq0vQQVswqcHJNfMQ8+0U7M85g5Q5fcUBj97t/QiXL8eRFsZIUwo/XoyZn/VC3IkzOL92pLiadXo1yF7/IlxkngjfeRFV93OxsvtinKwTxz3eOjzRAxJIxEVWWhPTGjU4uWYWFn02Ep+dPoNzmq8QvicKs5cegkEcanZahad6u2NzRgWe/v1pVHWKA1yM7z7ehYQjReKKB1dTAvWmT/A71Tc4tMgVDuL6h+ossjMkiDiqgrJPTzh1Fde3w63dCJGFIemWuKJ9DKePouClELzkJK5pjXLkZZfDb8f7mDGgJ5ydHk5vZqv47sB28vHtkUDsv3YGa7ANPkOW4frHq/BSF3Hc480Gid6GDMfw0UfXEKtZB2WfnnB2Hojlpcnote9DHG4qMYz5ANW1hIzdG/HWsJfROf6fzV54X3MV5973Elc8OAdXLPq/53HoTVdxTYeorgMcuj6cBGj2S/G/xEXtVIS9XxRj3uyA9v/g1QFO3R3FpQ9GIoHk4Vz5sBb5I7FgLZRdHOH9zle4evMSMpYOFAc99myb6E1XY1v2xyPQo31XLTUlmYgN3YhscQUAlBXhOBZj6BBBWX9XjJLdwZViQZmQgwMcbPzrrUsKg8uUz3Fy/zvw91DARTYQXq/thLZ++qAcSVMUCEkyzWmb+u2T7/YjcqInXGQKuAybjz9dvNuw0poSfGmaK3bxCEBE0iFsmaKonxLTJYVBOsVyWsryyjEXUTIFVhzMxRbTnLrLoABEHasQLCFSdxfZO+eb9sELXtM34uRtU92t3QhxW4xEiQTJEySQuqnqj1lV7k7MmegFF5kCCp9XsT7TchuGzI0I9zHWuwwLq6/PVskhkS5G3gtZWCSVNLTdoh0KeL20HEnCvmlKUQYSTgXipRHiigY11w8hytwfwyYjIukijIcpF1FuE7EoW4KCRf3g4hYGtflioqYEB1Vh8JQr4CL3QWDkbsGxbWR60Vx/azdC3BQYFy/BE/H+Fuu0aMcgH4Svz4ShybtP07H8/DhW1Lc9DFvy76IqfzvCfYxjaKCP5RiyvpMQjkPjf3uuPyuoL0LCRAX8t2kFZUbGMR6PL7e8Ck/T+KjfT7Pmxg9gnMJMWg7/QQq4yDzhOT0eSVsmw8Xcxsbu7k6rIJU1jDW0MN6yVQq4vHsI2VtMx0vmBX/VcYu+bVvfd1LUwbKi5RR1yvSlNJnG4mnCM5GkPpFB6ZcN1jFNqCxMo9hpIwgAeU7bRVfEAUREp1Qklakoy6Iwh6JkihbXT0RUpg4laUgylYkrHrIydRgBIJ+oNLqhN5D+WhrNBshnk9YUoSN1iIKC1TrjV3O/YRGlXjOQXl9MB14DuSi3UQEREVXR4Qg5ATPr69PfDyIA9fvd2L5lqRQkVeWYvhn7CRhFOzQ60ut1dPaDcQTMolS9YCGBgg2+BMRSXrmB9Hod5cQMJyCGCmrNEY30/YU4AjwpQaMjvd5AZafiqB9AsReM1ZWnoglwo9UnikmvN9CNtGUEgFblVBsDSpNpNMaRutS8wmrKivEl4BXTvusob0coAcNIXWyOaVzBhhHkF18oLm7wcxqNB2hJmrEt+sspNAGg2anGcWt1nIiIyECpc+WEsIPGY6svJPULIOncNNITEdUW0y5fEIbvMvZbeT6tBUg6reHYWB4X4z4PBCh4Rz6VmcbLFIB8onOosiFKwHws5zSMlzdlBIDQ/x1KN5fNF46hRrYr2j99yiwC1lGe+fiWJtNIyCnhsmARE/MYD443trlMk0wTAJIuyyDTkWxx/FQeNR57c/+XaRJpCEAu5jaWJpMSYwVjoZEc0MJ4y1IpCACFJZrbuZ1GAbQgzXSM29z3nZPNE/1oDLYaGM0l+srCNIoN8jQOmugUytObh0kjxAeZqPFk04TGkmFHKFOHktQ/0eLHqiBuhOBkt070Vv12YSMB/qQuJyJ9Gk0GKFYjqBftd2P71liijzgq6F99Gk0DaLXw3BfUTcIQyzbVZtDbFvHivjdQ6lwF+e2wTK7pKxQkjckx7vc0BfltM//gGWVtmEgBW/ONX8Qntz6Ngqz2vYpSFypIGt1Yw01q82kVXqCEZvJ8wYYRJI08Vp+YiIhu7Apq+jiRObFE0OF7DUVUvIuGYozxWOVGE/AapQqzRGkKzfZfRgd+Nn4VJ9yCDSNIOjPF+ENhpt1Of8RoyyRXz9TvGYKi0mTyAyzLLieSG/yM7Wpku1b7p0+jYPHFwwTLcWxWpg4ladAuuiEoqz6xnIA3jX3T4vgxjhXPWNNxN7Foo3gskDgHtDTeTOuzOMYGSn2tob7tfd852XbqBgDhOTi1ekozF+tC1mDDfxaioJJwNH42lM7tnk3tXJy6Q9gNPXv3BZq5HbTqt559MRoS/AcAivJxHDPg7iaobyeL+XRnZ0hlClTXCiNMii4iHXewcrDEeEsrU0DyZCA+BvDvxuIBAIXQngc00e71y7jIFJj04VUYX/8pwZXLwFBvy2cTY9dlImNVE2+0XM7HCURBaTH94gilciBwraTpN6hy0pAa8j6mNzkdW44ftHdR+mmwcTrM9HlhyYlmj5PuRy3w+72Y2k3QL25LUABCLYBfLu+ANGgMhgof/vafjZTsP2NmL0FZvXL8cOEuXhg3Cs7CYq+RCJP90vSUJACIpiT/Iy5z7I7n8QTQ5PEScQ7GoggFvk3PBVCB7O+L8MeQQLiL48y6OFg8+3Bw98ZoXMfPvwC4eq6F8WMcK4MeaFC3NN5MujkK2tkTf+gF4H/wYH3fydg80beNH+KOfoDYJ77A0O4ShKw/hEJDMy8EdndC6c1S6Jt8xca+GO/FATg+BaAHnuomjuhAtTUA/JByuxLnNGdwTnMGer0BFRV3EDdGHNygug6YmmKoX+ac5gzuVNzBOZu+mliDk98exdBZwegnrhKqA/rG5Vm3dc+rTS9XB6D3apyp/JeoXzKxoBfw7y7jxEs8Um17+cABL4UEojT+W2TfzsHXqc/htWlN/lI273/vt2r8OHVt9VVhozrHeHv0OnmiB5wGhmP98YuoLEzDsEvb4PGHp+AV+jkKxYEAMNAbr+MYCoW/tEVafHOzJzwe5MKgE5MQgL5eCMIuFPworhWpq3l4783L3TECX+H8FQc4O/es/zz3TA80/ZahKzwGATcuFsJJsEyPZ3qYXk10hcdgoOBHy9dKCw+uwerUhjISvow7eBSCkAjN+YYi4C40miJA7tp4Qr7/PVI+GoiZAT3FNQJ9IRsC/Nf5a6gWt/XZJncQ/QZ4ACWnUfRrd1G/dIVDF6DPwDEoPVGAwvuChQy5+CRmF7IbvUDpi2HDHXEjK9/yFeGLZ/H1zR4Pd1yT+Qe8aQ6B4ViMT/H5igO4NDMSU/uLIwRE462mUIs8DEDvHgDkw1oYP+7wHgHkXbgoWIO1OvwbNU3eYbU03lpiw77vYJ0+0Zs5DQzH+m/Oobo4A1Ohh14cAABdJ2JB9CBsUMZB81MFDD+dxTr3KEjmRjUMyFvHsXlzmuWJ9hh7os54S62KHoENypk4eL0CBkMJTsZsQ+LNq/Vx/by9UXpiPf50qAQGQwVufrcGr8Vfbf/fL/QJx/ZoXyROmIak/HIYDBXQ5e/EyCfHYa/FmxNCfTFjWTAuxfsjIuksdAbjMdo6XoI5KRX19bnRQVh/2rjOm9+thf/MTUBv0+ugXR3xLLKgOftPGKpqjPse44sNyummfS+HJikaM7/oipgIP3EDAACGb/fhr8siMdXiftza2IWr0PXoAryxJhM3DcZ+TV0sgV/c2aZ/MMcswK4Xs7BI+hZOXq8w7sMhFSRProSmxlTv+38wdfJeFJr2/6OX/LGj8Cm4mdrT/WlHlO4/A43hLmrqAO95kfh96hwsTDD12fVMvO79HnpFb8GM5hJtG3mMGInSD+Pwp/xyUz9uxKKjojHSxQ/zYofgwIE0eE8JtJzSsCBB6Ykl2Gw+ztcPYVbQn+EZ/Rpe6tqa8dMTk2YG4NKGUYgwjVld/k6sFI7Z/l54eWgl3v4gzXh8rmfi7bfjBe1taby1zFZ939Fsnuifc3tWXNQmDq4B2PDNWowVVwAAHDD2gwPYG3EWEeN94eO/GDnzErH/k/D6AVlzPRt792Ti8j3RoiZtu5Vtv8a2Y1lm+a2xfmsoM+/3L1gX5AufsYvx6fO+eEMYPCwKeZuUyIsJgo9yAl75ojs2bwsFCTZDRFbtaqzMyBFjt36D9E3P48s3J8JH6YuANVrMyDmC1wVzzeLlncbHQ5+xDTUHFsNP6QufwDW4HJaDz2YZr66N9QtxeXUwfJS+CI69iaUZBmz1M12BOQdjU3wQ8t73x4htZ437vuEEshK74ZNQX/goJyLiLw5Qa7PR+J8KVCD9iBaTXvZr+d151/nI06bA40oMApS+8PGdhX3PpuGLVSMFy4p6p4srFh/TYm90BVaF+MJH6YvwfUDqtc1QOpjqj2uhHpiK2b6+8Bm/DEdHJePrPfPr7z68563CApe9mK2cZ0x6/edDey0NbmeWGfssLAb3YjNwbKsfmvo7L3G/A8AzbnKrMuG4cg5fh9SIp6CeOxE+vmGI1Qbi4xXWyygnTQEwCdPGN3dHRMC4RIw2JCJ4rC98gjbil4gUpH1g7veWx49T8CYUqJehMNY4ZkMS/gfhbwq34YV3P1mA4EtrEaD0xYtzv0CfNdvhIRjULY03EFmcA1Zl7ej7zkhCZLWbD1W2SoHDL1/Fh+PFNQ1aE8NaUCd60Hb/ON7oFow/5BC2NH5h+9tUlAi/OXex7fxaKG389xP2wrD/Vfh89wrOfdlwASWmSwqD35EpyD3S8AP2MGS/NxAL8Dn+sZ0HdVvY4Ire+srCWmtiWNPu4kikJwJjBFMMbwXji25rMKOZB6O/SQOjkFvASb5d7t+F7u/7sWjOAUyaHdxkkmedT4cn+rHx15DYwpV6a2JYcxwxZesezPg1Ea/4+sJHGYYtNXFIv7kR3pzQ2EOiS5mHF8MTUbcpH9tebnHiq2Mu3hqbamEt6vCpG8YYY49Wh1/RM8YYe7Q40TPGmJ3jRM8YY3aOEz1jjNk5TvSMMWbnONEzxpid40TPGGN2jhM9Y4zZOU70jDFm5zjRM8aYneNEzxhjdo4TPWOM2TlO9IwxZuc40TPGmJ3jRM8YY3aOEz1jjNk5TvTssVKVvx0hwxRwkYVBfUtcy9qkrgZV98WFzB51eKLPVskRdVpcaqk1MW1RdXE3Il7ygYtMARePAMzZeRZV4iChmru4mX8cSZvfQbiP50NtC3uI7mdiqXIVfp2+D7maPXi9rziANet+Lta/qIDU41Uk/HAX0KzGizGZ4ihmhzo80QMSSMRFVloT00r3MxHpvQCXxn2KXM0ZnEudg7KoUYg4WCGONCmHevoIBC/fh4JuDqg7/+PDawt7uC7kYh+W4L3lw9HP2REOD+Hfw9UlhUE6ZTd04gp7lH8U34zfg1LNKiDeF9LF1/HWGwHiKGaHbJDobctwLAUpWIcE1XD0c+4J50HzsV8dirx9x5o4mfvi9QOXcPXcV/j0nWC4yBTiANZZ1NZAKnOEU1dxxYP5zfywj4/HpQ0jAScvrDxwCaVXjmPpIHEQs0e2TfS3diNEFoYt++MR6KGAVJUrjnhg5dcKIY30wVDB1V4/VxlQWIhiYaCAQ9eW/0V7ZgM1JTioCoOnXAEXuQ8CI3dDa5pz06nDIJmwB09I4rFQJhg7dXeRvXM+/D0UcJF5wWv6Rpy8LVhnXQVOrn8VXoMUcJEp4BVqrs9FlJsCf1x0CU9kL4CfTDB9aGqHl7yJdYpkqxRwefdzHFw62dh2hQ9C1mfCUCcIambfAAC3M7E+1DTdOHQyIvd/jkhZGJJMzyEau/PIVonOoWa3kYsomQIrDuZii3k7gwIQdczyTrcqdyfmTPQy1g+bjIiki81Pe7LHA3WwrGg5RZ0yfSlNprF4mvBMJKlPZFD6ZYN1jNipaOrvJiep6NM/OkccSUREWSoFSVWiulMqkspUlGVZ2ogcipIpmm4L60AGSp0rJ4QdpBt6A+n1haR+ASSdm0Z6c0gjx7Fggy8BsZRXbiC9Xkc5McMJiKGCWiKiKsqK9iXgDUq/ZiC9vpgOvNGbgLcp655x+TJ1KElDkqmsfo06Uk+TE7DBtM5iOvDG8wQspKzK+iALWSoFAaAlacWk1xvoxok15AqQX2KhKaKFfastpC0DQei1uX6bXy3oR0AAqUuNa7Bup3ist7AN09gGRtEOjY70eh2d/WAcAbMo1dTB1TlrLPajTJNICoCC1cUNG2WPJZsn+tEYTAmXm4kRq64ivd5g/amsFkcSWQ1+k0YSROM40T8yF+IIiKDDpgRMRETFu2goxpC63PRdfBz1aTQJQyzHU20GvQ3QOzlEVJ5Mw+FOm7XC+hxa5x9EmzTGr1YJ9EIcAUG092fhMlqKGwAKVusEhQ2yVAqSrsiwKLuSOJFc/BPpCrVi3wrWEjDZcpulyTQaY1uf6FvahmlsRxwVnDf6NJoG0OocMv1QKMgzNr+hnogq094y/jDWWhSzx4xtp24AEJ6Dk6O4tBkOjnB27mn9ceLpFnui+1EL/H4vpnaTGKcNZApI3JagAATUiqNNii4iHXewcrBgmScD8TGAe7UAbvyACwjE0MGCZbr4YUP2cbw/SlAmoNNqIQ2aAmUvQWEXL7w4VYG/Xy8RFIo8aTke3Qd7g376CfoW9q0WgP6Hk5AOHYVBwm0CIMuvzWpuG8L+s5imdHaGVKZAdS0AFEKjAcaNGdlQD8BpuBKj8SNullsUs8eMzRN9m51WQWoauMJPU/P73R0dgdsGGMQVbTlrmO3VAei9Gmcq/4VzmjM4pzkDvd6AiopMvNbUa5S1NQD8kHK7UrTMHSSMAVDXSR6zNrNvC3oB/4tugKMjHujSpZltNNl/7Dej8yf6Metw3jRwhZ/zay2vPMzcvZUo/fJH3BQ8CCu8rAXc3eEmDGSdSr8BHkDJaRT92t3izu25Z7o2/Rql3B0j8BXOX3EQLdMDTg4AFEMxDBm4UiRcqAgHY9Yg1aKsQT9vb5SeOAKNxQPdi/jr4asYNMBVUChSW2PxtfCyFujTB39oxb718R6P0pwM/CB64Gv1M1VXA8utNGhpGy1zh1IJZP3trEVp1QUN8jAEMv6xeLyJ53IeNvEcvVIw79hozIO6l0PzAFJuOU9lpgdKQwCanWp88EtUTQVfxNCOU+bvQjxH/8jUFtOuF0HAItODUwPdSIsm4F3KM08ri+fo6x+2TiK1Rlf/ANEHY2nPz8L6KMoyPeRMjwkiIKL+Yaw+dR4Bb1FquYGMj32sH8aefHdYKx7GutOqEw0PMb0gmNNvad8aexi70NXiYaxxDr4XRdQ/8I2hvgC5mOfoW9pGo2Pbssz6YWwy+fHDWLtg80Qf7BbasYmeiKqvpdCSwBHGN3Q8JtLsxHxqOEcL6aMgOY3YJHxCZ5ZD77jJ6Z2H2BbWBpVa2hsdSp4DjG9WDZkWTanXBA8PT0VTf7doy4fqtQZK3zSP/DyMy8gnzKMdOVWW9bGzyNNdTlI3T/J8JY7ShQ8972kpIciTpG5yWmV+hl9dTKn17WhkGZEslYKw4kvaGxlEQwbISTpgBAVvyqFK4QPMlvbt5wyKnWYas0ODaF7cKhqLCYJzpYryNoWSp1xOUrch5PnKdtq7LZSkwrfPmt1GY2PbuqwyJ5FmTzD2h3RoEC1RawXnDntcSYioQ2evs1UKHH75Kj4cL65p0JoYxjqr7PcGYgE+xz+2+4mr2u/WboyW7sHC0iy82V9cyVjb2GCOnlrxHLQ1MYwxxtqjwxP92PhrSGzhSr01MYx1WkToiPvi59yeFRcx1i4dPnXDGGPs0erwK3rGGGOPFid6xhizc5zoGWPMznGiZ4wxO8eJnjHG7BwnesYYs3Oc6BljzM5xomeMMTvHiZ4xxuwcJ3rGGLNznOgZY8zOcaJnjDE7x4meMcbsHCd6xhizc5zoGWPMznGiZ4wxO8eJnjHG7BwnemZXqvK3I2SYAi6yMKhviWsZ+23q8ESfrZIj6rS41FJrYtqi6uJuRLzkAxeZAi4eAZiz8yyqxEFCVReRFDkZXnIFXGRe8Jq+ESdvi4NYp3c/E0uVq/Dr9H3I1ezB633FAXbu1m6EyMKQZP6Bu52JhMRcGERh7LenwxM9IIFEXGSlNTGtdD8Tkd4LcGncp8jVnMG51DkoixqFiIMV4kiTciTNm4VF6RPw2ekzOKf5Gqsd1mGSbA20deJY1qldyMU+LMF7y4ejn7MjHLqIA9pBnDw7uTvFv9b/t+FMGj76LAWnOdP/5tkg0duW4VgKUrAOCarh6OfcE86D5mO/OhR5+45BJw4GgFvf4/BlN3z8/btQ9ukJZ2dXzPowDdPufY2sInEw69RqayCVOcKpq7jiwfxS/C9x0WPB+ZXPUXrtc8x0Ftew3xrbJnrT1dGW/fEI9FBAqsoVRzyw8muFkEb6YKjgaq6fqwwoLESxMNCs/3wcvXkcS13FFUWorBGXsUeq7i6yd86Hv4f1FJtOHQbJhD14QhKPhTLLsVWVuxNzJnrBRaaAwudVrM+0vLszZG5EuI+x3mVYWH19tkoOiXQx8l7IwiKppGGdFu1QwOul5Ui6eNdinUK6pDC4TInHl4K2+0cews2aEhyMnAxPuQIuch8Eqo7DILyLrCnBQVVYQ33kbmiFc5C3M7E+1DRFOSwMazJL8TvhKX1aBalMhWzz9za2m9kR6mBZ0XKKOmX6UppMY/E04ZlIUp/IoPTLBusYsVPR1N9NTlLRp390jjiSiIiyVAqSqkR1p1Qklakoy7K0cdU62j8HJJ2WTGXiOvZIFWzwJSCW8soNpNfrKCdmOAExVFBrCmjsOF+II8CTEjQ60usNVHYqjvoBFHvBWF15KpoAN1p9opj0egPdSFtGAGhVTrUxoDSZRmMcqUvNK6ymrBhfAl6h1GvGduTtCCVgGKmLzTGWytRhBICC4/OpTG+gMk0ijQQI6E0L1A1lIwBakGY8J4gMlDpXTgg7SDf0BtLrC0n9Akg6N430RES1hbR1IAi9Nhv7ozyfPg2XERDQ0FaL/mh7u5n9sHmiH43BlHC5mRix6irS6w3Wn0rTiSjS7kRfmkzBbnICQJC/T1m/iAPYI6VPo0kYYjl2ajPobYBWmw+31XE2UOpcBfntKKwvISJKX6EgaUwOEelIPU1Bftu0FvVZGyZSwNZ845fSZFJibEPy1KdREECxGuESVZS6UEHSJi4+ytShJA3aRTcEZVkqBblYlFXT4Uhzu8w/UBF0+F7DMlS8i4ZiDKnLiShXRcBk2vuzoL40mUYL2yrsj3a0m9kP207dACA8BydHcWkzHBzh7NzT+uPkII58MH1fRYrmDPT6YpwM/h7jekQgu9lXdZhNFV1EOu5g5WCJcapCpoDkyUB8DODfteJgs0JozwOaaPf6ZVxkCkz68CpQAwAluHIZGOrtZbHU2HWZyFg10qKs3uV8nEAUlCOEhY5QKgcC10oafw4EAF0cYDViLcoc4NQNwP8Yv+l+1AK/34up3QT767YEBSDUAqi4cgRS/wAM69WwOgAgy68N2ttuZhdsnujb7LQKUsFJav40Nb/f3dERuG2wfqWsyTPApIsDnJyND2MDt8VjKXZBnd7UmzrM5mprAPgh5XYlzmnO4JzmDPR6Ayoq7iBujDi4QXUdMDXFUL/MOc0Z3Km4g3Nrm0jknUUdgN6rcabyX6L9zcSCXkAN/hvo9hR+J16OsUZ0/kQ/Zh3OC05S8+d8Eyequ7cSpV/+iJuCh1qFl7WAuzvchIFmP2yEp2w+Dgp/GboAjnIFnLq25daDdSi5O0bgK5y/4mBxZ/fcMz3Q9M2dKzwGATcuFpp+xI2fHs/0MN0RusJjMFDwo+XrVYUH12B1akMZCV/+HTwKQUiE5nxDEXAXGk0RIHdFP2HxA+g3wAMoOY2iX7uL9rcrHLoAfUaMR+mJI9CI/t6jydeUbdRu1jl1/kTfxqkbh/HhmIc4rIy/AJ2hArr8nXg16nuMnhtsGsw10CavQcJp09W6VwheLtuDmSv+gpuGChgM5dDsSMTWa6Pwsl/j22CPQJ9wbI/2ReKEaUjKL4fBdGxHPjkOe5v847a+mLEsGJfi/RGRdBY6QwUMP53F1vESzEmpqK/PjQ7C+tPGdd78bi38Z24Ceptew+rqiGeRBc3Zf8JQVQM4B0MV44sNyuk4eN00XpKiMfOLroiJ8BM3oP3GLMCuF7OwSPoWTl6vMLbtkAqSJ1dCUwPAKxxbFCfwuvcWaH4y7tdnKzYgD/8lXpORrdrNOiWbJ/rn3J4VFz1cXf3w+bUUeGZFwk/pC783j2FQYj4+m9HTFFCCv6WlITW/3Pi1ixe2/jMHCU/uxiu+vvBRBiPirDfSS3dhipNwxezRcsTYrd8gfdPz+PLNifBR+iJgjRYzco7g9fp5agKR5Ryd0/h46DO2oebAYvgpfeETuAaXw3Lw2SzjeDDWL8Tl1cHwUfoiOPYmlmYYsNX8I+8cjE3xQch73x8jtp0F4ICxG04gK7EbPgn1hY9yIiL+4gC1NhtvWr2i28Bq5pCo8TJzYRdXLD6mxd7oCqwK8YWP0hfh+4DUa5uhdADQZSBW5+Vg06hvMNvfFz4h2/DPOauxwO1p4QoF/dG+djP7ICHxmfGQZasUOPzyVXw4XlzToDUxjDHG2scGV/SNXLlYaU0MY4yx9ujwK3rGGGOPlg2u6BljjD1KnOgZY8zOcaJnjDE7x4meMcbsHCd6xhizc5zoGWPMznGiZ4wxO8eJnjHG7BwnesYYs3Oc6BljzM5xomeMMTvHiZ4xxuwcJ3rGGLNznOgZY8zOcaJnjDE7x4meMcbsHCd6xhizc5zomV2oyt+OkGEKuMjCoL4lrmXst63DE322So6o0+JSS62JaYuqi7sR8ZIPXGQKuHgEYM7Os6gSB1nIRZRsoDFe8AlRl4sDWWd0PxNLlavw6/R9yNXswet9xQEsW6WAVJUrLma/ER2e6AEJJOIiK62JaaX7mYj0XoBL4z5FruYMzqXOQVnUKEQcrBBHNjAY8I/iZ7A07RzOac7Uf1LmcMZ4LFzIxT4swXvLh6OfsyMcuogD2k6XFAbplN3QiSseVxIJJA/tJGOPGxsketsyHEtBCtYhQTUc/Zx7wnnQfOxXhyJv37GmT9r7d/ELhmDAACc4O/es/zh1FQeyTqm2BlKZ40M/XpwXmb2wbaK/tRshsjBs2R+PQI+OuZUsv1YIaaQPhgqu6vq5yoDCQhQLA4VuFaNc1v2hJwr2kNTdRfbO+fD3UMBF5gWv6Rtx8raxSqcOg2TCHjwhicdCmWBMNbOMsb4CJ9e/Cq9Bxmk6r1BzfS6i3BT446JLeCJ7AfxkgmnFmhIcVIXBS97EOq3U4Ob+5fAfpICLzBP+kbtxcHsYXMxtbOJ8qLmVifXTfaCQGbfjH7kb2vq5x1xEyRRYcTAXW0JN05ODAhB1THjHehfaJMF2l+6G9s5Vyx+ulvqH2RfqYFnRcoo6ZfpSmkxj8TThmUhSn8ig9MsG6xixU9HU301OUtGnf3SOOJKIiLJUCpKqRHWnVCSVqSjLsrRBhorgEkAhgSOM6x8aREtSiqlaHMceiYINvgTEUl65gfR6HeXEDCcghgpqTQGNHN/ml6mirGhfAt6g9GsG0uuL6cAbvQl4m7LuGZcvU4eSNCSZyurXqCP1NDkBG0zrLKYDbzxPwELKqqwPslB5dBkBoCVpxaTXG+jGiRj6b4BczOOzsfPhXgZNBWjo5nNUVllN1T/n03qApMsyTOMxh6JkCgJG0Q6NjvR6HZ39YBwBsyhV3/R2XYXbbbF/mL2xeaIfjcGUcLmZGLHqKtLrDdafysbTcHsSvf5EDAUELaOEnGLS64spa9ssAkBRpxrfBrMhfRpNwhDLMVObQW8DtNp8mMXHt5ll3skhovJkGg532qwV1ufQOv8g2qQxfrVK9BfiCAiivT8Ll9FS3ABQsFonKDQzUOpcBXnG5luUWozPxs6H2mq6e+ffVC1IuJZtMSb6iKOCsalPo2n1/aEj9bQWtttM/9T3KbMrtp26AUB4Dk6O4tJmODhazJvXf5wcxJHt5vzyB8g4/me86+cKZ2dXjH1vNw5HKvBt2veoEQcz2yq6iHTcwcrBkvq3oSRPBuJjAP+uFQebNLPMvVoAN37ABQRi6GDBMl38sCH7ON4fJSgT0Gm1kAZNgbKXoLCLF16cqsDfr5cICs0KoT0PDHJ3E1dYsDofujjgP2VfY3mgxDR1o8AfF31j9SDVoatg/Ds7QypToLoWAEpw5e/A6OFegmiRZvqnyT5ljzWbJ/o2O62CVPTao4twLlaku6MjcNsAg7iCxAXNcYC390Cg3AC9uIrZVm0NAD+k3K6sfxtKrzegouIO4saIg02aWSZhDIA6WzxmdYJDN8Cpa1uuagDcPoQZ3nPw/2bk469XruIfN6+iTB0Kasv4JcDBoZkLoWb6p8k+ZY+1zp/ox6zDecErj+bP+bUjxZEAAHdvJUq//BE36xrKCi9rAXd3NH5tVQ51qAIhSZbvzBdfLwL6OuMPFqXM5uTuGIGvcP6Kg8Ud3XPP9ECTN3UtLaMYimHIwJUi4UJFOBizBqkWZQ36eXuj9MQRaCwe6F7EXw9fxaABroJCs75wdwfyLlwUVzSvMB/XZCosWjwSzqb9q6lry32lO5RKIOtvZ8UVDVrqH2Z3On+ib+PUjcP4cMxDHFbGX4DOUAFd/k68GvU9Rs8NRj8AQA20yWuQcNr8lkJfTHt1FI4tmoY/5ZfDYKjAzUPLMS7+Kqa+MhGNb4XZTJ9wbI/2ReKEaUgyHR9d/k6MfHIc9jb1lkhLy/QJx47oHlg5eAWyf6qAwVCCk2uiMXPzL3i+v3EVTzk5ofSoBpqfKlBVA2DYAqinFeP13nHQmJbJeO9NrLu+ECtnNPb3Fj0xdUEwLm0YhYhDJcZx9d0avBkvevtFrHdflN6MR0LCWegMFbj53Vq8sOQEJD+Vo5m/BBHoiUkzA6y2+5pwuy31D7M/4kn7h038MDbYLZTUpc3EPATV11JoifkNGo+JNDsxnxpejCikj4LkNGKT8ElcFRWol1HAUNNbPUNDKTbD+EYQ6wRqDZS+aR75eRiPj3zCPNqRU9VQfyqa+rtFWz5sb2mZWgOlx84iT3c5Sd08yfOVOEoXPmi9p6WEIE+SuslplfkBZXUxpUaHkueAJpaxUk03UpaZ2jCE/OYl0uY3Ld+6aex80GfEUbBpLA6ZtpHS96pI6raMDt8jIsqhd9zk9I7F+SIuE203Ipn2xkwkqfBNtZb6h9kVCVGbZv/aLFulwOGXr+LD8eKaBq2JYeyxVAeg/m86anBkqRfeefZz/OMDP8s4xjqQDaZuqBXPQVsTw9jjperwYkj6r8TJ6xWmKUEVpn56FfNCOckz2+rwK3rGfrPq7kKbHINVn2XgRiXg0MMbszZ9hPUBPcWRjHUoTvSMMWbnbDB1wxhj7FHiRM8YY3aOEz1jjNk5TvSMMWbnONEzxpid40TPGGN2jhM9Y4zZOU70jDFm59r1B1P/0P0sLmKMMdYEl369xUU2xVf0jDFm59p1Rc8YY+zxwVf0jDFm5zjRM8aYneNEzxhjdo4TPWOM2TlO9IwxZuc40TPGmJ3jRM8YY3aOEz1jjNm5/w/C9gq8EubPbgAAAABJRU5ErkJggg==)"
      ],
      "metadata": {
        "id": "lPJaxtn31HTx"
      }
    }
  ],
  "metadata": {
    "colab": {
      "private_outputs": true,
      "provenance": []
    },
    "kernelspec": {
      "display_name": "Python 3",
      "name": "python3"
    },
    "language_info": {
      "codemirror_mode": {
        "name": "ipython",
        "version": 3
      },
      "file_extension": ".py",
      "mimetype": "text/x-python",
      "name": "python",
      "nbconvert_exporter": "python",
      "pygments_lexer": "ipython3",
      "version": "3.12.6"
    }
  },
  "nbformat": 4,
  "nbformat_minor": 0
}